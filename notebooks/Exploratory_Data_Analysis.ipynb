# Import necessary libraries
import pandas as pd
from src import exploratory_data_analysis

# Load the processed data
file_path = '../data/processed_data.csv'
df = pd.read_csv(file_path)

# Perform exploratory data analysis
exploratory_data_analysis.analyze_data(df)
exploratory_data_analysis.plot_data(df)

# Summary
print("Exploratory data analysis is complete. Insights and visualizations are provided above.")
