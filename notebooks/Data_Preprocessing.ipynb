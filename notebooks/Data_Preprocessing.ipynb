# Import necessary libraries
import pandas as pd
from src import data_preprocessing

# Load the data
file_path = '../data/raw_data.csv'
df = data_preprocessing.load_data(file_path)

# Display the first few rows of the raw data
df.head()

# Clean the data
df = data_preprocessing.clean_data(df)

# Display the first few rows of the cleaned data
df.head()

# Save the processed data
processed_file_path = '../data/processed_data.csv'
data_preprocessing.save_processed_data(df, processed_file_path)

# Summary
print("Data preprocessing is complete. The cleaned data is saved to 'processed_data.csv'.")
