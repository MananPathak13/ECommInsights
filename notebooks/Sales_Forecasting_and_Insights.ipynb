# Import necessary libraries
import pandas as pd
from src import sales_forecasting

# Load the processed data
file_path = '../data/processed_data.csv'
df = pd.read_csv(file_path)

# Prepare data for model training
X = df.drop('sales', axis=1)
y = df['sales']

# Train the sales forecasting model
model = sales_forecasting.train_model(X, y)

# Provide insights and recommendations based on the model results
# (This section will depend on the specific analysis and results of your model)

# Summary
print("Sales forecasting model is trained. Insights and recommendations are provided above.")
